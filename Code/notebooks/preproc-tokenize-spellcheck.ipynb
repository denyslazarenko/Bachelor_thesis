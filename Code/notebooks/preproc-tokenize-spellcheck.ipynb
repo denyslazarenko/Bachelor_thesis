{
 "cells": [
  {
   "cell_type": "markdown",
   "metadata": {},
   "source": [
    "# Preprocessing: Clean Up & Tokenize Questions"
   ]
  },
  {
   "cell_type": "markdown",
   "metadata": {},
   "source": [
    "Break question titles into tokens, and perform token-level normalization: expand shortened words, correct spelling, etc."
   ]
  },
  {
   "cell_type": "markdown",
   "metadata": {},
   "source": [
    "## Imports"
   ]
  },
  {
   "cell_type": "markdown",
   "metadata": {},
   "source": [
    "This utility package imports `numpy`, `pandas`, `matplotlib` and a helper `kg` module into the root namespace."
   ]
  },
  {
   "cell_type": "code",
   "execution_count": null,
   "metadata": {
    "collapsed": true
   },
   "outputs": [],
   "source": [
    "from pygoose import *\n",
    "\n"
   ]
  },
  {
   "cell_type": "code",
   "execution_count": 10,
   "metadata": {
    "collapsed": true
   },
   "outputs": [],
   "source": [
    "import nltk"
   ]
  },
  {
   "cell_type": "markdown",
   "metadata": {},
   "source": [
    "## Config"
   ]
  },
  {
   "cell_type": "markdown",
   "metadata": {},
   "source": [
    "Automatically discover the paths to various data folders and compose the project structure."
   ]
  },
  {
   "cell_type": "code",
   "execution_count": 11,
   "metadata": {
    "collapsed": true
   },
   "outputs": [],
   "source": [
    "project = kg.Project.discover()"
   ]
  },
  {
   "cell_type": "markdown",
   "metadata": {},
   "source": [
    "## Load Data"
   ]
  },
  {
   "cell_type": "markdown",
   "metadata": {},
   "source": [
    "Original question datasets."
   ]
  },
  {
   "cell_type": "code",
   "execution_count": 12,
   "metadata": {
    "collapsed": true
   },
   "outputs": [],
   "source": [
    "df_train = pd.read_csv(project.data_dir + 'train.csv').fillna('none')\n",
    "df_test = pd.read_csv(project.data_dir + 'test.csv').fillna('none')"
   ]
  },
  {
   "cell_type": "code",
   "execution_count": 13,
   "metadata": {
    "collapsed": true
   },
   "outputs": [],
   "source": [
    "df_all = pd.concat([df_train, df_test])"
   ]
  },
  {
   "cell_type": "code",
   "execution_count": 14,
   "metadata": {},
   "outputs": [
    {
     "data": {
      "text/html": [
       "<div>\n",
       "<style>\n",
       "    .dataframe thead tr:only-child th {\n",
       "        text-align: right;\n",
       "    }\n",
       "\n",
       "    .dataframe thead th {\n",
       "        text-align: left;\n",
       "    }\n",
       "\n",
       "    .dataframe tbody tr th {\n",
       "        vertical-align: top;\n",
       "    }\n",
       "</style>\n",
       "<table border=\"1\" class=\"dataframe\">\n",
       "  <thead>\n",
       "    <tr style=\"text-align: right;\">\n",
       "      <th></th>\n",
       "      <th>lvl1</th>\n",
       "      <th>lvl2</th>\n",
       "      <th>titles</th>\n",
       "      <th>descriptions</th>\n",
       "      <th>price</th>\n",
       "    </tr>\n",
       "  </thead>\n",
       "  <tbody>\n",
       "    <tr>\n",
       "      <th>0</th>\n",
       "      <td>110</td>\n",
       "      <td>267</td>\n",
       "      <td>Seeking Vaccancy In A Mnufacturing Company</td>\n",
       "      <td>when working with people one need to be kind, sincere, and loyal in all that he is doing.</td>\n",
       "      <td>none</td>\n",
       "    </tr>\n",
       "    <tr>\n",
       "      <th>1</th>\n",
       "      <td>5</td>\n",
       "      <td>55</td>\n",
       "      <td>Slippers For Men</td>\n",
       "      <td>its made of good qualities and good for all men's casuals</td>\n",
       "      <td>3000.000000</td>\n",
       "    </tr>\n",
       "    <tr>\n",
       "      <th>2</th>\n",
       "      <td>27</td>\n",
       "      <td>257</td>\n",
       "      <td>Afro By Nature Hydrating Leave In Conditioner</td>\n",
       "      <td>Dry, brittle hair? Damaged hair or split ends? No problem. \\r\\nThis product is formulated to restore moisture into the hair. it also repairs the hair and leaves it full, shiny and bouncy. Suitable for all hair texture. Recommended for both natural and relaxed hair.</td>\n",
       "      <td>2500.000000</td>\n",
       "    </tr>\n",
       "    <tr>\n",
       "      <th>3</th>\n",
       "      <td>5</td>\n",
       "      <td>168</td>\n",
       "      <td>Porshe Design Wristwatches</td>\n",
       "      <td>Porshe design new wristwatch is now available at my store</td>\n",
       "      <td>175000.000000</td>\n",
       "    </tr>\n",
       "    <tr>\n",
       "      <th>4</th>\n",
       "      <td>3</td>\n",
       "      <td>17</td>\n",
       "      <td>Brand New Samsung 20\" 20J4003 TV LED - Black</td>\n",
       "      <td>KEY FEATURES\\r\\nBrand: Samsung\\r\\nModel: 20J4003\\r\\nDesign: LED\\r\\nVideo: 23.6\" Measured Diagonally\\r\\nWireless Connectivity: YES\\r\\nInputs &amp; Outputs: HDMI, USB\\r\\nDimensions (W X H X D): 22.1\" x 13.7\" x 1.9\"\\r\\nPower: AC110-120V 60Hz\\r\\nProduct warranty: 2years warranty.\\r\\nTo place your order,chat me up.\\r\\nDelivery available nationwide with discount. Also available in bulk.</td>\n",
       "      <td>38000.000000</td>\n",
       "    </tr>\n",
       "  </tbody>\n",
       "</table>\n",
       "</div>"
      ],
      "text/plain": [
       "   lvl1  lvl2                                         titles  \\\n",
       "0   110   267     Seeking Vaccancy In A Mnufacturing Company   \n",
       "1     5    55                               Slippers For Men   \n",
       "2    27   257  Afro By Nature Hydrating Leave In Conditioner   \n",
       "3     5   168                     Porshe Design Wristwatches   \n",
       "4     3    17   Brand New Samsung 20\" 20J4003 TV LED - Black   \n",
       "\n",
       "                                                                                                                                                                                                                                                                                                                                                                                  descriptions  \\\n",
       "0                                                                                                                                                                                                                                                                                                    when working with people one need to be kind, sincere, and loyal in all that he is doing.   \n",
       "1                                                                                                                                                                                                                                                                                                                                    its made of good qualities and good for all men's casuals   \n",
       "2                                                                                                                    Dry, brittle hair? Damaged hair or split ends? No problem. \\r\\nThis product is formulated to restore moisture into the hair. it also repairs the hair and leaves it full, shiny and bouncy. Suitable for all hair texture. Recommended for both natural and relaxed hair.   \n",
       "3                                                                                                                                                                                                                                                                                                                                    Porshe design new wristwatch is now available at my store   \n",
       "4  KEY FEATURES\\r\\nBrand: Samsung\\r\\nModel: 20J4003\\r\\nDesign: LED\\r\\nVideo: 23.6\" Measured Diagonally\\r\\nWireless Connectivity: YES\\r\\nInputs & Outputs: HDMI, USB\\r\\nDimensions (W X H X D): 22.1\" x 13.7\" x 1.9\"\\r\\nPower: AC110-120V 60Hz\\r\\nProduct warranty: 2years warranty.\\r\\nTo place your order,chat me up.\\r\\nDelivery available nationwide with discount. Also available in bulk.   \n",
       "\n",
       "          price  \n",
       "0          none  \n",
       "1   3000.000000  \n",
       "2   2500.000000  \n",
       "3 175000.000000  \n",
       "4  38000.000000  "
      ]
     },
     "execution_count": 14,
     "metadata": {},
     "output_type": "execute_result"
    }
   ],
   "source": [
    "df_all.head()"
   ]
  },
  {
   "cell_type": "markdown",
   "metadata": {},
   "source": [
    "Stopwords customized for Quora dataset."
   ]
  },
  {
   "cell_type": "code",
   "execution_count": 15,
   "metadata": {
    "collapsed": true
   },
   "outputs": [],
   "source": [
    "stopwords = set(kg.io.load_lines(project.aux_dir + 'stopwords.vocab'))"
   ]
  },
  {
   "cell_type": "code",
   "execution_count": 16,
   "metadata": {
    "collapsed": true
   },
   "outputs": [],
   "source": [
    "from nltk.corpus import stopwords as st\n",
    "stop = set(st.words('english'))"
   ]
  },
  {
   "cell_type": "code",
   "execution_count": 17,
   "metadata": {
    "collapsed": true
   },
   "outputs": [],
   "source": [
    "stopwords = stopwords | stop"
   ]
  },
  {
   "cell_type": "markdown",
   "metadata": {},
   "source": [
    "Pre-composed spelling correction dictionary."
   ]
  },
  {
   "cell_type": "code",
   "execution_count": 18,
   "metadata": {
    "collapsed": true
   },
   "outputs": [],
   "source": [
    "spelling_corrections = kg.io.load_json(project.aux_dir + 'spelling_corrections.json')"
   ]
  },
  {
   "cell_type": "markdown",
   "metadata": {},
   "source": [
    "## Load Tools"
   ]
  },
  {
   "cell_type": "code",
   "execution_count": 19,
   "metadata": {
    "collapsed": true
   },
   "outputs": [],
   "source": [
    "tokenizer = nltk.tokenize.RegexpTokenizer(r'\\w+')"
   ]
  },
  {
   "cell_type": "markdown",
   "metadata": {},
   "source": [
    "## Preprocess and tokenize questions"
   ]
  },
  {
   "cell_type": "code",
   "execution_count": 20,
   "metadata": {
    "collapsed": true
   },
   "outputs": [],
   "source": [
    "def translate(text, translation):\n",
    "    for token, replacement in translation.items():\n",
    "        text = text.replace(token, ' ' + replacement + ' ')\n",
    "    text = text.replace('  ', ' ')\n",
    "    return text"
   ]
  },
  {
   "cell_type": "code",
   "execution_count": 21,
   "metadata": {
    "collapsed": true
   },
   "outputs": [],
   "source": [
    "def spell_digits(text):\n",
    "    translation = {\n",
    "        '0': 'zero',\n",
    "        '1': 'one',\n",
    "        '2': 'two',\n",
    "        '3': 'three',\n",
    "        '4': 'four',\n",
    "        '5': 'five',\n",
    "        '6': 'six',\n",
    "        '7': 'seven',\n",
    "        '8': 'eight',\n",
    "        '9': 'nine',\n",
    "    }\n",
    "    return translate(text, translation)"
   ]
  },
  {
   "cell_type": "code",
   "execution_count": 22,
   "metadata": {
    "collapsed": true
   },
   "outputs": [],
   "source": [
    "def expand_negations(text):\n",
    "    translation = {\n",
    "        \"can't\": 'can not',\n",
    "        \"won't\": 'would not',\n",
    "        \"shan't\": 'shall not',\n",
    "    }\n",
    "    text = translate(text, translation)\n",
    "    return text.replace(\"n't\", \" not\")"
   ]
  },
  {
   "cell_type": "code",
   "execution_count": 23,
   "metadata": {
    "collapsed": true
   },
   "outputs": [],
   "source": [
    "_our_bad_words = []"
   ]
  },
  {
   "cell_type": "code",
   "execution_count": 24,
   "metadata": {
    "collapsed": true
   },
   "outputs": [],
   "source": [
    "def correct_spelling(text):\n",
    "    global _k\n",
    "    for token in tokenizer.tokenize(text):\n",
    "        if token in spelling_corrections:\n",
    "            _our_bad_words.append(token)\n",
    "    return ' '.join(     \n",
    "        spelling_corrections.get(token, token)\n",
    "        for token in tokenizer.tokenize(text)\n",
    "    )"
   ]
  },
  {
   "cell_type": "code",
   "execution_count": 25,
   "metadata": {
    "collapsed": true
   },
   "outputs": [],
   "source": [
    "def get_question_tokens(question, lowercase=True, spellcheck=True, remove_stopwords=True):\n",
    "    if lowercase:\n",
    "        question = question.lower()\n",
    "    \n",
    "    if spellcheck:\n",
    "        question = correct_spelling(question)\n",
    "    \n",
    "    question = spell_digits(question)\n",
    "    question = expand_negations(question)\n",
    "\n",
    "    tokens = [token for token in tokenizer.tokenize(question.lower() if lowercase else question)]    \n",
    "    if remove_stopwords:\n",
    "        tokens = [token for token in tokens if token not in stopwords]\n",
    "    \n",
    "    #tokens.append('.')\n",
    "    return tokens"
   ]
  },
  {
   "cell_type": "code",
   "execution_count": 26,
   "metadata": {
    "collapsed": true
   },
   "outputs": [],
   "source": [
    "def get_question_pair_tokens_lowercase_spellcheck_remove_stopwords(pair):\n",
    "    return [\n",
    "        get_question_tokens(pair[0], lowercase=True, spellcheck=True, remove_stopwords=True),\n",
    "        get_question_tokens(pair[1], lowercase=True, spellcheck=True, remove_stopwords=True),\n",
    "    ]"
   ]
  },
  {
   "cell_type": "code",
   "execution_count": 27,
   "metadata": {
    "collapsed": true
   },
   "outputs": [],
   "source": [
    "def get_question_pair_tokens_lowercase_spellcheck_remove_stopwords_descriptions_only(pair):\n",
    "    return get_question_tokens(pair[0], lowercase=True, spellcheck=True, remove_stopwords=True)"
   ]
  },
  {
   "cell_type": "code",
   "execution_count": 21,
   "metadata": {},
   "outputs": [
    {
     "data": {
      "text/html": [
       "<div>\n",
       "<style>\n",
       "    .dataframe thead tr:only-child th {\n",
       "        text-align: right;\n",
       "    }\n",
       "\n",
       "    .dataframe thead th {\n",
       "        text-align: left;\n",
       "    }\n",
       "\n",
       "    .dataframe tbody tr th {\n",
       "        vertical-align: top;\n",
       "    }\n",
       "</style>\n",
       "<table border=\"1\" class=\"dataframe\">\n",
       "  <thead>\n",
       "    <tr style=\"text-align: right;\">\n",
       "      <th></th>\n",
       "      <th>lvl1</th>\n",
       "      <th>lvl2</th>\n",
       "      <th>titles</th>\n",
       "      <th>descriptions</th>\n",
       "      <th>price</th>\n",
       "    </tr>\n",
       "  </thead>\n",
       "  <tbody>\n",
       "    <tr>\n",
       "      <th>0</th>\n",
       "      <td>110</td>\n",
       "      <td>267</td>\n",
       "      <td>Seeking Vaccancy In A Mnufacturing Company</td>\n",
       "      <td>when working with people one need to be kind, sincere, and loyal in all that he is doing.</td>\n",
       "      <td>none</td>\n",
       "    </tr>\n",
       "    <tr>\n",
       "      <th>1</th>\n",
       "      <td>5</td>\n",
       "      <td>55</td>\n",
       "      <td>Slippers For Men</td>\n",
       "      <td>its made of good qualities and good for all men's casuals</td>\n",
       "      <td>3000.000000</td>\n",
       "    </tr>\n",
       "    <tr>\n",
       "      <th>2</th>\n",
       "      <td>27</td>\n",
       "      <td>257</td>\n",
       "      <td>Afro By Nature Hydrating Leave In Conditioner</td>\n",
       "      <td>Dry, brittle hair? Damaged hair or split ends? No problem. \\r\\nThis product is formulated to restore moisture into the hair. it also repairs the hair and leaves it full, shiny and bouncy. Suitable for all hair texture. Recommended for both natural and relaxed hair.</td>\n",
       "      <td>2500.000000</td>\n",
       "    </tr>\n",
       "    <tr>\n",
       "      <th>3</th>\n",
       "      <td>5</td>\n",
       "      <td>168</td>\n",
       "      <td>Porshe Design Wristwatches</td>\n",
       "      <td>Porshe design new wristwatch is now available at my store</td>\n",
       "      <td>175000.000000</td>\n",
       "    </tr>\n",
       "    <tr>\n",
       "      <th>4</th>\n",
       "      <td>3</td>\n",
       "      <td>17</td>\n",
       "      <td>Brand New Samsung 20\" 20J4003 TV LED - Black</td>\n",
       "      <td>KEY FEATURES\\r\\nBrand: Samsung\\r\\nModel: 20J4003\\r\\nDesign: LED\\r\\nVideo: 23.6\" Measured Diagonally\\r\\nWireless Connectivity: YES\\r\\nInputs &amp; Outputs: HDMI, USB\\r\\nDimensions (W X H X D): 22.1\" x 13.7\" x 1.9\"\\r\\nPower: AC110-120V 60Hz\\r\\nProduct warranty: 2years warranty.\\r\\nTo place your order,chat me up.\\r\\nDelivery available nationwide with discount. Also available in bulk.</td>\n",
       "      <td>38000.000000</td>\n",
       "    </tr>\n",
       "  </tbody>\n",
       "</table>\n",
       "</div>"
      ],
      "text/plain": [
       "   lvl1  lvl2                                         titles  \\\n",
       "0   110   267     Seeking Vaccancy In A Mnufacturing Company   \n",
       "1     5    55                               Slippers For Men   \n",
       "2    27   257  Afro By Nature Hydrating Leave In Conditioner   \n",
       "3     5   168                     Porshe Design Wristwatches   \n",
       "4     3    17   Brand New Samsung 20\" 20J4003 TV LED - Black   \n",
       "\n",
       "                                                                                                                                                                                                                                                                                                                                                                                  descriptions  \\\n",
       "0                                                                                                                                                                                                                                                                                                    when working with people one need to be kind, sincere, and loyal in all that he is doing.   \n",
       "1                                                                                                                                                                                                                                                                                                                                    its made of good qualities and good for all men's casuals   \n",
       "2                                                                                                                    Dry, brittle hair? Damaged hair or split ends? No problem. \\r\\nThis product is formulated to restore moisture into the hair. it also repairs the hair and leaves it full, shiny and bouncy. Suitable for all hair texture. Recommended for both natural and relaxed hair.   \n",
       "3                                                                                                                                                                                                                                                                                                                                    Porshe design new wristwatch is now available at my store   \n",
       "4  KEY FEATURES\\r\\nBrand: Samsung\\r\\nModel: 20J4003\\r\\nDesign: LED\\r\\nVideo: 23.6\" Measured Diagonally\\r\\nWireless Connectivity: YES\\r\\nInputs & Outputs: HDMI, USB\\r\\nDimensions (W X H X D): 22.1\" x 13.7\" x 1.9\"\\r\\nPower: AC110-120V 60Hz\\r\\nProduct warranty: 2years warranty.\\r\\nTo place your order,chat me up.\\r\\nDelivery available nationwide with discount. Also available in bulk.   \n",
       "\n",
       "          price  \n",
       "0          none  \n",
       "1   3000.000000  \n",
       "2   2500.000000  \n",
       "3 175000.000000  \n",
       "4  38000.000000  "
      ]
     },
     "execution_count": 21,
     "metadata": {},
     "output_type": "execute_result"
    }
   ],
   "source": [
    "df_all.head()"
   ]
  },
  {
   "cell_type": "code",
   "execution_count": 22,
   "metadata": {},
   "outputs": [
    {
     "data": {
      "text/plain": [
       "14"
      ]
     },
     "execution_count": 22,
     "metadata": {},
     "output_type": "execute_result"
    }
   ],
   "source": [
    "len(set(df_all.lvl1))"
   ]
  },
  {
   "cell_type": "markdown",
   "metadata": {},
   "source": [
    "Tokenize the questions, correct spelling, but keep the upper/lower case."
   ]
  },
  {
   "cell_type": "code",
   "execution_count": 203,
   "metadata": {},
   "outputs": [
    {
     "name": "stdout",
     "output_type": "stream",
     "text": [
      "\n",
      "Batches:   0%|          | 0/717 [00:00<?, ?it/s]\u001b[A\n",
      "Batches: 100%|██████████| 717/717 [00:28<00:00, 24.91it/s]\n"
     ]
    }
   ],
   "source": [
    "tokens_spellcheck = kg.jobs.map_batch_parallel(\n",
    "    df_all.as_matrix(columns=['descriptions', 'titles']),\n",
    "    item_mapper=get_question_pair_tokens_lowercase_spellcheck_remove_stopwords,\n",
    "    batch_size=1000,\n",
    ")"
   ]
  },
  {
   "cell_type": "code",
   "execution_count": 23,
   "metadata": {},
   "outputs": [
    {
     "name": "stdout",
     "output_type": "stream",
     "text": [
      "Batches: 100%|██████████| 717/717 [00:15<00:00, 45.09it/s]\n"
     ]
    }
   ],
   "source": [
    "tokens_spellcheck_descriptions = kg.jobs.map_batch_parallel(\n",
    "    df_all.as_matrix(columns=['descriptions']),\n",
    "    item_mapper=get_question_pair_tokens_lowercase_spellcheck_remove_stopwords_descriptions_only,\n",
    "    batch_size=1000,\n",
    ")"
   ]
  },
  {
   "cell_type": "code",
   "execution_count": 28,
   "metadata": {},
   "outputs": [
    {
     "name": "stdout",
     "output_type": "stream",
     "text": [
      "Batches: 100%|██████████| 717/717 [00:02<00:00, 253.67it/s]\n"
     ]
    }
   ],
   "source": [
    "tokens_spellcheck_titles = kg.jobs.map_batch_parallel(\n",
    "    df_all.as_matrix(columns=['titles']),\n",
    "    item_mapper=get_question_pair_tokens_lowercase_spellcheck_remove_stopwords_descriptions_only,\n",
    "    batch_size=1000,\n",
    ")"
   ]
  },
  {
   "cell_type": "markdown",
   "metadata": {},
   "source": [
    "Tokenize the questions, convert to lowercase and correct spelling, keep the stopwords (useful for neural models)."
   ]
  },
  {
   "cell_type": "markdown",
   "metadata": {},
   "source": [
    "## Extract question vocabulary"
   ]
  },
  {
   "cell_type": "code",
   "execution_count": 204,
   "metadata": {},
   "outputs": [
    {
     "name": "stderr",
     "output_type": "stream",
     "text": [
      "100%|██████████| 1433350/1433350 [00:05<00:00, 249630.12it/s]\n"
     ]
    }
   ],
   "source": [
    "vocab = set()\n",
    "for question in progressbar(np.array(tokens_spellcheck).ravel()):\n",
    "    for token in question:\n",
    "        vocab.add(token)"
   ]
  },
  {
   "cell_type": "code",
   "execution_count": 205,
   "metadata": {},
   "outputs": [
    {
     "data": {
      "text/plain": [
       "226268"
      ]
     },
     "execution_count": 205,
     "metadata": {},
     "output_type": "execute_result"
    }
   ],
   "source": [
    "len(vocab)"
   ]
  },
  {
   "cell_type": "markdown",
   "metadata": {},
   "source": [
    "## Save preprocessed data"
   ]
  },
  {
   "cell_type": "markdown",
   "metadata": {},
   "source": [
    "Tokenized questions."
   ]
  },
  {
   "cell_type": "code",
   "execution_count": 206,
   "metadata": {
    "collapsed": true
   },
   "outputs": [],
   "source": [
    "kg.io.save(\n",
    "    tokens_spellcheck[:len(df_train)],\n",
    "    project.preprocessed_data_dir + 'tokens_lowercase_spellcheck_no_stopwords_train.pickle'\n",
    ")\n",
    "kg.io.save(\n",
    "    tokens_spellcheck[len(df_train):],\n",
    "    project.preprocessed_data_dir + 'tokens_lowercase_spellcheck_no_stopwords_test.pickle'\n",
    ")"
   ]
  },
  {
   "cell_type": "markdown",
   "metadata": {},
   "source": [
    "## Descriptions_only"
   ]
  },
  {
   "cell_type": "code",
   "execution_count": 26,
   "metadata": {
    "collapsed": true
   },
   "outputs": [],
   "source": [
    "kg.io.save(\n",
    "    tokens_spellcheck_descriptions[:len(df_train)],\n",
    "    project.preprocessed_data_dir + 'tokens_lowercase_spellcheck_no_stopwords_descriptions_train.pickle'\n",
    ")\n",
    "kg.io.save(\n",
    "    tokens_spellcheck_descriptions[len(df_train):],\n",
    "    project.preprocessed_data_dir + 'tokens_lowercase_spellcheck_no_stopwords_descriptions_test.pickle'\n",
    ")"
   ]
  },
  {
   "cell_type": "markdown",
   "metadata": {},
   "source": [
    "# Titles only"
   ]
  },
  {
   "cell_type": "code",
   "execution_count": 29,
   "metadata": {
    "collapsed": true
   },
   "outputs": [],
   "source": [
    "kg.io.save(\n",
    "    tokens_spellcheck_titles[:len(df_train)],\n",
    "    project.preprocessed_data_dir + 'tokens_lowercase_spellcheck_no_stopwords_titles_train.pickle'\n",
    ")\n",
    "kg.io.save(\n",
    "    tokens_spellcheck_titles[len(df_train):],\n",
    "    project.preprocessed_data_dir + 'tokens_lowercase_spellcheck_no_stopwords_titles_test.pickle'\n",
    ")"
   ]
  },
  {
   "cell_type": "markdown",
   "metadata": {},
   "source": [
    "Question vocabulary."
   ]
  },
  {
   "cell_type": "code",
   "execution_count": 207,
   "metadata": {
    "collapsed": true
   },
   "outputs": [],
   "source": [
    "kg.io.save_lines(\n",
    "    sorted(list(vocab)),\n",
    "    project.preprocessed_data_dir + 'tokens_lowercase_spellcheck_no_stopwords.vocab'\n",
    ")"
   ]
  },
  {
   "cell_type": "markdown",
   "metadata": {},
   "source": [
    "Ground truth."
   ]
  },
  {
   "cell_type": "code",
   "execution_count": 208,
   "metadata": {
    "collapsed": true
   },
   "outputs": [],
   "source": [
    "kg.io.save(df_train['lvl1'].values, project.features_dir + 'y_train.pickle')"
   ]
  },
  {
   "cell_type": "code",
   "execution_count": 7,
   "metadata": {
    "collapsed": true
   },
   "outputs": [],
   "source": [
    "kg.io.save(df_test['lvl1'].values, project.features_dir + 'y_test.pickle')"
   ]
  },
  {
   "cell_type": "code",
   "execution_count": null,
   "metadata": {
    "collapsed": true
   },
   "outputs": [],
   "source": [
    ""
   ]
  }
 ],
 "metadata": {
  "kernelspec": {
   "display_name": "Python 3",
   "language": "python",
   "name": "python3"
  },
  "language_info": {
   "codemirror_mode": {
    "name": "ipython",
    "version": 3
   },
   "file_extension": ".py",
   "mimetype": "text/x-python",
   "name": "python",
   "nbconvert_exporter": "python",
   "pygments_lexer": "ipython3",
   "version": "3.5.2"
  }
 },
 "nbformat": 4,
 "nbformat_minor": 0
}
