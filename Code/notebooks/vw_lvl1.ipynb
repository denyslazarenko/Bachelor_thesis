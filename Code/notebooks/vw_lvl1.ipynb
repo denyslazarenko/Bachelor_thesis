{
 "cells": [
  {
   "cell_type": "code",
   "execution_count": 1,
   "metadata": {},
   "outputs": [
    {
     "name": "stderr",
     "output_type": "stream",
     "text": [
      "/home/denys/Jiji/venv/local/lib/python2.7/site-packages/sklearn/cross_validation.py:41: DeprecationWarning: This module was deprecated in version 0.18 in favor of the model_selection module into which all the refactored classes and functions are moved. Also note that the interface of the new CV iterators are different from that of this module. This module will be removed in 0.20.\n",
      "  \"This module will be removed in 0.20.\", DeprecationWarning)\n"
     ]
    }
   ],
   "source": [
    "from sklearn.cross_validation import train_test_split\n",
    "from sklearn.metrics import classification_report, f1_score, accuracy_score, confusion_matrix\n",
    "import numpy as np\n",
    "import pandas as pd\n",
    "import re\n",
    "get_ipython().magic('matplotlib inline')"
   ]
  },
  {
   "cell_type": "code",
   "execution_count": 2,
   "metadata": {
    "collapsed": true
   },
   "outputs": [],
   "source": [
    "from pygoose import *"
   ]
  },
  {
   "cell_type": "code",
   "execution_count": 3,
   "metadata": {
    "collapsed": true
   },
   "outputs": [],
   "source": [
    "project = kg.Project.discover()"
   ]
  },
  {
   "cell_type": "code",
   "execution_count": 29,
   "metadata": {},
   "outputs": [],
   "source": [
    "df_train = pd.read_csv(project.data_dir + 'train.csv').fillna('0')\n",
    "df_test = pd.read_csv(project.data_dir + 'test.csv').fillna('0')"
   ]
  },
  {
   "cell_type": "code",
   "execution_count": 30,
   "metadata": {},
   "outputs": [],
   "source": [
    "df_train.price = df_train.price.fillna(0)\n",
    "df_test.price = df_test.price.fillna(0)"
   ]
  },
  {
   "cell_type": "code",
   "execution_count": 31,
   "metadata": {},
   "outputs": [
    {
     "data": {
      "text/html": [
       "<div>\n",
       "<style>\n",
       "    .dataframe thead tr:only-child th {\n",
       "        text-align: right;\n",
       "    }\n",
       "\n",
       "    .dataframe thead th {\n",
       "        text-align: left;\n",
       "    }\n",
       "\n",
       "    .dataframe tbody tr th {\n",
       "        vertical-align: top;\n",
       "    }\n",
       "</style>\n",
       "<table border=\"1\" class=\"dataframe\">\n",
       "  <thead>\n",
       "    <tr style=\"text-align: right;\">\n",
       "      <th></th>\n",
       "      <th>lvl1</th>\n",
       "      <th>lvl2</th>\n",
       "      <th>titles</th>\n",
       "      <th>descriptions</th>\n",
       "      <th>price</th>\n",
       "    </tr>\n",
       "  </thead>\n",
       "  <tbody>\n",
       "    <tr>\n",
       "      <th>0</th>\n",
       "      <td>110</td>\n",
       "      <td>267</td>\n",
       "      <td>Seeking Vaccancy In A Mnufacturing Company</td>\n",
       "      <td>when working with people one need to be kind, sincere, and loyal in all that he is doing.</td>\n",
       "      <td>0</td>\n",
       "    </tr>\n",
       "    <tr>\n",
       "      <th>1</th>\n",
       "      <td>5</td>\n",
       "      <td>55</td>\n",
       "      <td>Slippers For Men</td>\n",
       "      <td>its made of good qualities and good for all men's casuals</td>\n",
       "      <td>3000.000000</td>\n",
       "    </tr>\n",
       "    <tr>\n",
       "      <th>2</th>\n",
       "      <td>27</td>\n",
       "      <td>257</td>\n",
       "      <td>Afro By Nature Hydrating Leave In Conditioner</td>\n",
       "      <td>Dry, brittle hair? Damaged hair or split ends? No problem. \\r\\nThis product is formulated to restore moisture into the hair. it also repairs the hair and leaves it full, shiny and bouncy. Suitable for all hair texture. Recommended for both natural and relaxed hair.</td>\n",
       "      <td>2500.000000</td>\n",
       "    </tr>\n",
       "    <tr>\n",
       "      <th>3</th>\n",
       "      <td>5</td>\n",
       "      <td>168</td>\n",
       "      <td>Porshe Design Wristwatches</td>\n",
       "      <td>Porshe design new wristwatch is now available at my store</td>\n",
       "      <td>175000.000000</td>\n",
       "    </tr>\n",
       "    <tr>\n",
       "      <th>4</th>\n",
       "      <td>3</td>\n",
       "      <td>17</td>\n",
       "      <td>Brand New Samsung 20\" 20J4003 TV LED - Black</td>\n",
       "      <td>KEY FEATURES\\r\\nBrand: Samsung\\r\\nModel: 20J4003\\r\\nDesign: LED\\r\\nVideo: 23.6\" Measured Diagonally\\r\\nWireless Connectivity: YES\\r\\nInputs &amp; Outputs: HDMI, USB\\r\\nDimensions (W X H X D): 22.1\" x 13.7\" x 1.9\"\\r\\nPower: AC110-120V 60Hz\\r\\nProduct warranty: 2years warranty.\\r\\nTo place your order,chat me up.\\r\\nDelivery available nationwide with discount. Also available in bulk.</td>\n",
       "      <td>38000.000000</td>\n",
       "    </tr>\n",
       "  </tbody>\n",
       "</table>\n",
       "</div>"
      ],
      "text/plain": [
       "   lvl1  lvl2                                         titles  \\\n",
       "0   110   267     Seeking Vaccancy In A Mnufacturing Company   \n",
       "1     5    55                               Slippers For Men   \n",
       "2    27   257  Afro By Nature Hydrating Leave In Conditioner   \n",
       "3     5   168                     Porshe Design Wristwatches   \n",
       "4     3    17   Brand New Samsung 20\" 20J4003 TV LED - Black   \n",
       "\n",
       "                                                                                                                                                                                                                                                                                                                                                                                  descriptions  \\\n",
       "0                                                                                                                                                                                                                                                                                                    when working with people one need to be kind, sincere, and loyal in all that he is doing.   \n",
       "1                                                                                                                                                                                                                                                                                                                                    its made of good qualities and good for all men's casuals   \n",
       "2                                                                                                                    Dry, brittle hair? Damaged hair or split ends? No problem. \\r\\nThis product is formulated to restore moisture into the hair. it also repairs the hair and leaves it full, shiny and bouncy. Suitable for all hair texture. Recommended for both natural and relaxed hair.   \n",
       "3                                                                                                                                                                                                                                                                                                                                    Porshe design new wristwatch is now available at my store   \n",
       "4  KEY FEATURES\\r\\nBrand: Samsung\\r\\nModel: 20J4003\\r\\nDesign: LED\\r\\nVideo: 23.6\" Measured Diagonally\\r\\nWireless Connectivity: YES\\r\\nInputs & Outputs: HDMI, USB\\r\\nDimensions (W X H X D): 22.1\" x 13.7\" x 1.9\"\\r\\nPower: AC110-120V 60Hz\\r\\nProduct warranty: 2years warranty.\\r\\nTo place your order,chat me up.\\r\\nDelivery available nationwide with discount. Also available in bulk.   \n",
       "\n",
       "          price  \n",
       "0             0  \n",
       "1   3000.000000  \n",
       "2   2500.000000  \n",
       "3 175000.000000  \n",
       "4  38000.000000  "
      ]
     },
     "execution_count": 31,
     "metadata": {},
     "output_type": "execute_result"
    }
   ],
   "source": [
    "df_train.head()"
   ]
  },
  {
   "cell_type": "markdown",
   "metadata": {},
   "source": [
    "### Preprocess data and generate features"
   ]
  },
  {
   "cell_type": "code",
   "execution_count": 32,
   "metadata": {
    "collapsed": true
   },
   "outputs": [],
   "source": [
    "def clean(s):\n",
    "    return \" \".join(re.findall(r'\\w+', s,flags = re.UNICODE | re.LOCALE)).lower()\n",
    "\n",
    "def to_vw_format(description, title, price, label=None):\n",
    "    title = clean(str(title).lower())\n",
    "    description = clean(str(description).lower())\n",
    "    return str(label or '') + ' |title ' + ' '.join(re.findall('\\w{3,}', title)) + ' description '  + ' '.join(re.findall('\\w{3,}', description)) + ' word_count:' + str(description.count(' ')+1)+ ' price:' + str(price) + '\\n'"
   ]
  },
  {
   "cell_type": "code",
   "execution_count": 33,
   "metadata": {
    "collapsed": true
   },
   "outputs": [],
   "source": [
    "from sklearn import preprocessing\n",
    "topic_encoder = preprocessing.LabelEncoder()\n",
    "y_train_encoded = topic_encoder.fit_transform(df_train.lvl1) + 1\n",
    "y_test_encoded = topic_encoder.fit_transform(df_test.lvl1) + 1"
   ]
  },
  {
   "cell_type": "code",
   "execution_count": 51,
   "metadata": {},
   "outputs": [
    {
     "data": {
      "text/plain": [
       "array([  1,   3,   4,   5,   6,   7,   8,   9,  27,  40,  47,  59, 110, 140])"
      ]
     },
     "execution_count": 51,
     "metadata": {},
     "output_type": "execute_result"
    }
   ],
   "source": [
    "topic_encoder.classes_"
   ]
  },
  {
   "cell_type": "code",
   "execution_count": 34,
   "metadata": {},
   "outputs": [
    {
     "name": "stdout",
     "output_type": "stream",
     "text": [
      "CPU times: user 0 ns, sys: 0 ns, total: 0 ns\n",
      "Wall time: 5.01 µs\n"
     ]
    }
   ],
   "source": [
    "%time\n",
    "\n",
    "with open('./vw_lvl1/train.vw', 'w') as vw_train_data:\n",
    "    for description, title, price, target in zip(df_train.descriptions, df_train.titles, df_train.price, y_train_encoded):\n",
    "        vw_train_data.write(to_vw_format(description, title, price, target))\n",
    "        \n",
    "with open('./vw_lvl1/test.vw', 'w') as vw_test_data:\n",
    "    for description, title, price in zip(df_test.descriptions, df_test.titles, df_test.price):\n",
    "        vw_test_data.write(to_vw_format(description, title, price))"
   ]
  },
  {
   "cell_type": "markdown",
   "metadata": {},
   "source": [
    "### Train model"
   ]
  },
  {
   "cell_type": "code",
   "execution_count": 35,
   "metadata": {},
   "outputs": [],
   "source": [
    "from vowpalwabbit.sklearn_vw import VW"
   ]
  },
  {
   "cell_type": "code",
   "execution_count": 36,
   "metadata": {
    "collapsed": true
   },
   "outputs": [],
   "source": [
    "model = VW(\n",
    "    convert_to_vw=False, loss_function='logistic', oaa=14, probabilities=True\n",
    ")"
   ]
  },
  {
   "cell_type": "code",
   "execution_count": 37,
   "metadata": {},
   "outputs": [
    {
     "name": "stdout",
     "output_type": "stream",
     "text": [
      "CPU times: user 0 ns, sys: 0 ns, total: 0 ns\n",
      "Wall time: 3.1 µs\n"
     ]
    }
   ],
   "source": [
    "%time\n",
    "train = pd.read_csv('vw_lvl1' + '/train.vw', header=None, names=['data'])"
   ]
  },
  {
   "cell_type": "code",
   "execution_count": 41,
   "metadata": {},
   "outputs": [
    {
     "name": "stdout",
     "output_type": "stream",
     "text": [
      "CPU times: user 0 ns, sys: 0 ns, total: 0 ns\n",
      "Wall time: 12.2 µs\n"
     ]
    }
   ],
   "source": [
    "%time\n",
    "test = pd.read_csv('vw_lvl1' + '/test.vw', header=None, names=['data'])"
   ]
  },
  {
   "cell_type": "code",
   "execution_count": 38,
   "metadata": {},
   "outputs": [
    {
     "data": {
      "text/html": [
       "<div>\n",
       "<style>\n",
       "    .dataframe thead tr:only-child th {\n",
       "        text-align: right;\n",
       "    }\n",
       "\n",
       "    .dataframe thead th {\n",
       "        text-align: left;\n",
       "    }\n",
       "\n",
       "    .dataframe tbody tr th {\n",
       "        vertical-align: top;\n",
       "    }\n",
       "</style>\n",
       "<table border=\"1\" class=\"dataframe\">\n",
       "  <thead>\n",
       "    <tr style=\"text-align: right;\">\n",
       "      <th></th>\n",
       "      <th>data</th>\n",
       "    </tr>\n",
       "  </thead>\n",
       "  <tbody>\n",
       "    <tr>\n",
       "      <th>0</th>\n",
       "      <td>13 |title seeking vaccancy mnufacturing company description when working with people one need kind sincere and loyal all that doing word_count:18 price:0</td>\n",
       "    </tr>\n",
       "    <tr>\n",
       "      <th>1</th>\n",
       "      <td>4 |title slippers for men description its made good qualities and good for all men casuals word_count:12 price:3000.0</td>\n",
       "    </tr>\n",
       "    <tr>\n",
       "      <th>2</th>\n",
       "      <td>9 |title afro nature hydrating leave conditioner description dry brittle hair damaged hair split ends problem this product formulated restore moisture into the hair also repairs the hair and leaves full shiny and bouncy suitable for all hair texture recommended for both natural and relaxed hair word_count:44 price:2500.0</td>\n",
       "    </tr>\n",
       "    <tr>\n",
       "      <th>3</th>\n",
       "      <td>4 |title porshe design wristwatches description porshe design new wristwatch now available store word_count:10 price:175000.0</td>\n",
       "    </tr>\n",
       "    <tr>\n",
       "      <th>4</th>\n",
       "      <td>2 |title brand new samsung 20j4003 led black description key features brand samsung model 20j4003 design led video measured diagonally wireless connectivity yes inputs outputs hdmi usb dimensions power ac110 120v 60hz product warranty 2years warranty place your order chat delivery available nationwide with discount also available bulk word_count:58 price:38000.0</td>\n",
       "    </tr>\n",
       "  </tbody>\n",
       "</table>\n",
       "</div>"
      ],
      "text/plain": [
       "                                                                                                                                                                                                                                                                                                                                                                           data\n",
       "0                                                                                                                                                                                                                     13 |title seeking vaccancy mnufacturing company description when working with people one need kind sincere and loyal all that doing word_count:18 price:0\n",
       "1                                                                                                                                                                                                                                                         4 |title slippers for men description its made good qualities and good for all men casuals word_count:12 price:3000.0\n",
       "2                                            9 |title afro nature hydrating leave conditioner description dry brittle hair damaged hair split ends problem this product formulated restore moisture into the hair also repairs the hair and leaves full shiny and bouncy suitable for all hair texture recommended for both natural and relaxed hair word_count:44 price:2500.0\n",
       "3                                                                                                                                                                                                                                                 4 |title porshe design wristwatches description porshe design new wristwatch now available store word_count:10 price:175000.0\n",
       "4  2 |title brand new samsung 20j4003 led black description key features brand samsung model 20j4003 design led video measured diagonally wireless connectivity yes inputs outputs hdmi usb dimensions power ac110 120v 60hz product warranty 2years warranty place your order chat delivery available nationwide with discount also available bulk word_count:58 price:38000.0"
      ]
     },
     "execution_count": 38,
     "metadata": {},
     "output_type": "execute_result"
    }
   ],
   "source": [
    "train.head()"
   ]
  },
  {
   "cell_type": "code",
   "execution_count": 39,
   "metadata": {},
   "outputs": [
    {
     "name": "stdout",
     "output_type": "stream",
     "text": [
      "CPU times: user 0 ns, sys: 0 ns, total: 0 ns\n",
      "Wall time: 5.96 µs\n"
     ]
    },
    {
     "data": {
      "text/plain": [
       "{'probabilities': True, 'oaa': 14, 'quiet': True, 'loss_function': 'logistic'}"
      ]
     },
     "execution_count": 39,
     "metadata": {},
     "output_type": "execute_result"
    }
   ],
   "source": [
    "%time\n",
    "model.fit(train.data)"
   ]
  },
  {
   "cell_type": "code",
   "execution_count": 42,
   "metadata": {},
   "outputs": [],
   "source": [
    "predict_proba = model.predict(test.data)"
   ]
  },
  {
   "cell_type": "code",
   "execution_count": 101,
   "metadata": {},
   "outputs": [],
   "source": [
    "np.save('../data/features/VW_lvl1_proba_test',predict_proba)"
   ]
  },
  {
   "cell_type": "code",
   "execution_count": 89,
   "metadata": {},
   "outputs": [],
   "source": [
    "def get_prediction_with_precision(classes, predict_proba, cat_num=3, with_proba=False):\n",
    "    predictions_proba = predict_proba\n",
    "    return [\n",
    "        [\n",
    "            (\n",
    "                classes[pos], proba[pos]\n",
    "            )\n",
    "            for pos, proba in sorted(\n",
    "                enumerate(predictions),\n",
    "                key=lambda arg: arg[1], reverse=True\n",
    "            )[:cat_num]\n",
    "        ]\n",
    "        if with_proba is False\n",
    "        else\n",
    "        [\n",
    "            (\n",
    "                classes[pos]\n",
    "            )\n",
    "            for pos, proba in sorted(\n",
    "                enumerate(predictions),\n",
    "                key=lambda arg: arg[1], reverse=True\n",
    "            )[:cat_num]\n",
    "        ]\n",
    "        for i, predictions in enumerate(predictions_proba)\n",
    "    ]"
   ]
  },
  {
   "cell_type": "code",
   "execution_count": 90,
   "metadata": {},
   "outputs": [],
   "source": [
    "classes = topic_encoder.inverse_transform(np.array(range(0, 14, 1)))"
   ]
  },
  {
   "cell_type": "code",
   "execution_count": 92,
   "metadata": {},
   "outputs": [],
   "source": [
    "predicted = get_prediction_with_precision(classes, predict_proba, 1, True)"
   ]
  },
  {
   "cell_type": "code",
   "execution_count": 93,
   "metadata": {
    "collapsed": true
   },
   "outputs": [],
   "source": [
    "predicted = [item for sublist in predicted for item in sublist]"
   ]
  },
  {
   "cell_type": "code",
   "execution_count": 96,
   "metadata": {},
   "outputs": [
    {
     "name": "stdout",
     "output_type": "stream",
     "text": [
      "             precision    recall  f1-score   support\n",
      "\n",
      "          1       0.97      0.96      0.96     15503\n",
      "          3       0.93      0.94      0.93     15483\n",
      "          4       0.90      0.93      0.91     21531\n",
      "          5       0.98      0.99      0.98     56622\n",
      "          6       0.99      0.98      0.99     24020\n",
      "          7       0.93      0.87      0.90       882\n",
      "          8       0.85      0.75      0.80      2660\n",
      "          9       0.99      0.99      0.99     16454\n",
      "         27       0.94      0.95      0.95     12137\n",
      "         40       0.79      0.67      0.72       239\n",
      "         47       0.99      0.96      0.97     28935\n",
      "         59       0.89      0.78      0.83      3649\n",
      "        110       0.92      0.98      0.95     11497\n",
      "        140       0.80      0.74      0.77      7063\n",
      "\n",
      "avg / total       0.95      0.95      0.95    216675\n",
      "\n"
     ]
    }
   ],
   "source": [
    "print classification_report(list(df_test.lvl1), predicted)"
   ]
  },
  {
   "cell_type": "code",
   "execution_count": 103,
   "metadata": {
    "collapsed": true
   },
   "outputs": [],
   "source": [
    "M = confusion_matrix(list(df_test.lvl1), predicted)"
   ]
  },
  {
   "cell_type": "code",
   "execution_count": 104,
   "metadata": {},
   "outputs": [
    {
     "name": "stdout",
     "output_type": "stream",
     "text": [
      "[[14858   403    68    95     8     2    11     0    10     0     0    13\n",
      "      6    29]\n",
      " [  260 14542   372    85    26     4    45     6    19     0     4     3\n",
      "     24    93]\n",
      " [   50   273 20040   167    73    24    52    32   202     1    20    52\n",
      "     50   495]\n",
      " [   19    49   162 55873     4     1    49     6   107    11     8   206\n",
      "     37    90]\n",
      " [   35    59   186    39 23572     0    11    13    20     1     4     7\n",
      "     13    60]\n",
      " [    1     3    60    13     1   765     2     9     9     0     0     1\n",
      "      8    10]\n",
      " [    7   111   169   132    16     2  1988     0    44     9    13    25\n",
      "     31   113]\n",
      " [    2     4    42     5     8     1     1 16352     1     0     7     2\n",
      "      7    22]\n",
      " [   11    12   267   152     4     1    32     2 11500    17     7    19\n",
      "     15    98]\n",
      " [    0     0    13     4     1     0    33     0    27   159     0     0\n",
      "      0     2]\n",
      " [    0    19    43    22     8     2    13    19    26     0 27855     3\n",
      "    675   250]\n",
      " [   23    15   140   501     9     2    29     1    57     0     1  2844\n",
      "      4    23]\n",
      " [    3     9    20     9     6     0     1     8     4     0   134     5\n",
      "  11243    55]\n",
      " [   29   160   734   149   102    21    59    60   167     3   193    20\n",
      "    160  5206]]\n"
     ]
    }
   ],
   "source": [
    "print(M)"
   ]
  },
  {
   "cell_type": "code",
   "execution_count": 126,
   "metadata": {
    "collapsed": true
   },
   "outputs": [],
   "source": [
    "from ipywidgets import interact, interactive, fixed, interact_manual\n",
    "import ipywidgets as widgets"
   ]
  },
  {
   "cell_type": "code",
   "execution_count": 127,
   "metadata": {
    "collapsed": true
   },
   "outputs": [],
   "source": [
    "def f(j):\n",
    "    for i in np.where(M[j,:] > 0)[0]:\n",
    "        print(classes[i], M[j,i])"
   ]
  },
  {
   "cell_type": "code",
   "execution_count": 129,
   "metadata": {},
   "outputs": [
    {
     "data": {},
     "metadata": {},
     "output_type": "display_data"
    }
   ],
   "source": [
    "interact(f, j=(0, 13));"
   ]
  }
 ],
 "metadata": {
  "kernelspec": {
   "display_name": "Python 2",
   "language": "python",
   "name": "python2"
  },
  "language_info": {
   "codemirror_mode": {
    "name": "ipython",
    "version": 2
   },
   "file_extension": ".py",
   "mimetype": "text/x-python",
   "name": "python",
   "nbconvert_exporter": "python",
   "pygments_lexer": "ipython2",
   "version": "2.7.9"
  }
 },
 "nbformat": 4,
 "nbformat_minor": 2
}
